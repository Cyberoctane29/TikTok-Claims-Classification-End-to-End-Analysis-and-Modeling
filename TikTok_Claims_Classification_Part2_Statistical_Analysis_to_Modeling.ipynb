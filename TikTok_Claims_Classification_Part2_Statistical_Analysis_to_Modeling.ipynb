{
 "cells": [
  {
   "cell_type": "markdown",
   "metadata": {},
   "source": [
    "---"
   ]
  },
  {
   "cell_type": "markdown",
   "metadata": {},
   "source": [
    "## **Part 2: Statistical Analysis to Modeling**\n",
    "\n",
    "---"
   ]
  },
  {
   "cell_type": "markdown",
   "metadata": {},
   "source": [
    "### **Transition from Part 1**  \n",
    "In **Part 1: Project Proposal to EDA**, I established the project’s scope, structured the dataset, and conducted exploratory data analysis to uncover initial insights. This set the foundation for understanding claim-related patterns and engagement metrics.  \n",
    "\n",
    "Now, in **Part 2**, I will transition from EDA to **statistical analysis, including hypothesis testing, and machine learning modeling, covering multiple logistic regression, model evaluation, and champion model selection (Random Forest and XGBoost).** This phase will focus on validating statistical assumptions, developing a baseline logistic regression model, and selecting the best-performing model for claims classification.\n",
    "\n",
    "### **Objectives of Part 2**  \n",
    "- **Phase 4:** Hypothesis Testing and Statistical Validation  \n",
    "- **Phase 5:** Baseline Logistic Regression Model  \n",
    "- **Phase 6:** Machine Learning Model Selection (Random Forest/XGBoost)  \n",
    "\n",
    "This phase will be crucial in refining the classification model and ensuring robust performance for claim moderation.  "
   ]
  },
  {
   "cell_type": "markdown",
   "metadata": {},
   "source": [
    "### **Looking Back: Part 1**  \n",
    "To view the project foundation, including dataset structuring and exploratory data analysis, refer to:\n",
    "\n",
    "➡ **[Part 1: TikTok_Claims_Classification_Part1_Project_Proposal_to_EDA.ipynb](https://github.com/Cyberoctane29/TikTok-Claims-Classification-End-to-End-Analysis-and-Modeling/blob/main/TikTok_Claims_Classification_Part1_Project_Proposal_to_EDA.ipynb)**  \n",
    "\n",
    "https://github.com/Cyberoctane29/TikTok-Claims-Classification-End-to-End-Analysis-and-Modeling/blob/main/TikTok_Claims_Classification_Part1_Project_Proposal_to_EDA.ipynb"
   ]
  }
 ],
 "metadata": {
  "language_info": {
   "name": "python"
  }
 },
 "nbformat": 4,
 "nbformat_minor": 2
}
