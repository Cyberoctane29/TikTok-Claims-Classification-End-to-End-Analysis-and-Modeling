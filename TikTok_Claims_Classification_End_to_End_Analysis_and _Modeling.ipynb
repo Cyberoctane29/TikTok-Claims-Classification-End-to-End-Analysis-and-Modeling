{
 "cells": [
  {
   "attachments": {
    "TT_logo.png": {
     "image/png": "[encoded data removed]"
    }
   },
   "cell_type": "markdown",
   "metadata": {},
   "source": [
    "<p align=\"center\">\n",
    "  ![TT_logo.png](attachment:TT_logo.png)\n",
    "</p>"
   ]
  },
  {
   "cell_type": "markdown",
   "metadata": {},
   "source": [
    "# TikTok Claims Classification: End-to-End Analysis and Modeling"
   ]
  },
  {
   "cell_type": "markdown",
   "metadata": {},
   "source": [
    "## **Introduction**\n",
    "\n",
    "TikTok, one of the world's leading platforms for short-form mobile videos, has brought me on board as the newest member of its data analytics team. My team is working on developing a machine learning model to classify claims made in videos submitted to the platform.\n",
    "\n",
    "At TikTok, the mission is to inspire creativity and bring joy. TikTok employees lead with curiosity and move at the speed of culture. Combined with the company's flat structure, I have dynamic opportunities to make a real impact on a rapidly expanding company and grow my career.\n",
    "\n",
    "### **Background**  \n",
    "\n",
    "TikTok, the short-form video hosting company is the global-hub and leading destination for short-form mobile video. The platform is built to help imaginations thrive. TikTok's mission is to create a place for inclusive, joyful, and authentic content–where people can safely discover, create, and connect. \n",
    "\n",
    "### **The TikTok Scenario**  \n",
    "\n",
    "As part of TikTok’s data team, my role involves tackling an important challenge: handling user-reported claims in videos. TikTok users can flag videos and comments they believe contain unverified claims, generating a high volume of reports. These reports must be reviewed by moderators, but the sheer volume makes it difficult to process them efficiently.\n",
    "\n",
    "To address this, TikTok is developing a **predictive model** that can automatically determine whether a video contains a **claim** or an **opinion**. I will work mainly on this task, ensuring the model is effective in **reducing the backlog of user reports** and **prioritizing moderation efforts more efficiently**.\n",
    "\n",
    "### **Project Scope**  \n",
    "\n",
    "This project focuses on developing a machine learning model to classify claims in TikTok videos. It involves data exploration, statistical analysis, and visualization using Python and Tableau, followed by the development of a multiple logistic regression model. The project then includes the main model champion selection based on the development and evaluation of Random Forest and XGBoost, along with an n-gram tokenizer commonly used to process textual information for prediction and classification tasks. A detailed breakdown of these steps will be provided in the overview section.\n",
    "\n",
    "With this approach, the project aims to create a reliable machine learning pipeline to enhance content moderation efficiency on TikTok.  "
   ]
  },
  {
   "cell_type": "markdown",
   "metadata": {},
   "source": []
  }
 ],
 "metadata": {
  "language_info": {
   "name": "python"
  }
 },
 "nbformat": 4,
 "nbformat_minor": 2
}
